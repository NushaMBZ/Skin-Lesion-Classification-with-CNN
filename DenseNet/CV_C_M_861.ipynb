{
  "nbformat": 4,
  "nbformat_minor": 0,
  "metadata": {
    "colab": {
      "provenance": [],
      "gpuType": "T4"
    },
    "kernelspec": {
      "name": "python3",
      "display_name": "Python 3"
    },
    "language_info": {
      "name": "python"
    },
    "accelerator": "GPU"
  },
  "cells": [
    {
      "cell_type": "code",
      "execution_count": 1,
      "metadata": {
        "colab": {
          "base_uri": "https://localhost:8080/",
          "height": 141
        },
        "id": "toBiITry-LrG",
        "outputId": "7d76a41f-a122-4d34-911d-fa9bc4649289"
      },
      "outputs": [
        {
          "output_type": "display_data",
          "data": {
            "text/plain": [
              "<IPython.core.display.HTML object>"
            ],
            "text/html": [
              "\n",
              "     <input type=\"file\" id=\"files-f079d6d7-f6f7-4814-b401-2a2bceea9e59\" name=\"files[]\" multiple disabled\n",
              "        style=\"border:none\" />\n",
              "     <output id=\"result-f079d6d7-f6f7-4814-b401-2a2bceea9e59\">\n",
              "      Upload widget is only available when the cell has been executed in the\n",
              "      current browser session. Please rerun this cell to enable.\n",
              "      </output>\n",
              "      <script>// Copyright 2017 Google LLC\n",
              "//\n",
              "// Licensed under the Apache License, Version 2.0 (the \"License\");\n",
              "// you may not use this file except in compliance with the License.\n",
              "// You may obtain a copy of the License at\n",
              "//\n",
              "//      http://www.apache.org/licenses/LICENSE-2.0\n",
              "//\n",
              "// Unless required by applicable law or agreed to in writing, software\n",
              "// distributed under the License is distributed on an \"AS IS\" BASIS,\n",
              "// WITHOUT WARRANTIES OR CONDITIONS OF ANY KIND, either express or implied.\n",
              "// See the License for the specific language governing permissions and\n",
              "// limitations under the License.\n",
              "\n",
              "/**\n",
              " * @fileoverview Helpers for google.colab Python module.\n",
              " */\n",
              "(function(scope) {\n",
              "function span(text, styleAttributes = {}) {\n",
              "  const element = document.createElement('span');\n",
              "  element.textContent = text;\n",
              "  for (const key of Object.keys(styleAttributes)) {\n",
              "    element.style[key] = styleAttributes[key];\n",
              "  }\n",
              "  return element;\n",
              "}\n",
              "\n",
              "// Max number of bytes which will be uploaded at a time.\n",
              "const MAX_PAYLOAD_SIZE = 100 * 1024;\n",
              "\n",
              "function _uploadFiles(inputId, outputId) {\n",
              "  const steps = uploadFilesStep(inputId, outputId);\n",
              "  const outputElement = document.getElementById(outputId);\n",
              "  // Cache steps on the outputElement to make it available for the next call\n",
              "  // to uploadFilesContinue from Python.\n",
              "  outputElement.steps = steps;\n",
              "\n",
              "  return _uploadFilesContinue(outputId);\n",
              "}\n",
              "\n",
              "// This is roughly an async generator (not supported in the browser yet),\n",
              "// where there are multiple asynchronous steps and the Python side is going\n",
              "// to poll for completion of each step.\n",
              "// This uses a Promise to block the python side on completion of each step,\n",
              "// then passes the result of the previous step as the input to the next step.\n",
              "function _uploadFilesContinue(outputId) {\n",
              "  const outputElement = document.getElementById(outputId);\n",
              "  const steps = outputElement.steps;\n",
              "\n",
              "  const next = steps.next(outputElement.lastPromiseValue);\n",
              "  return Promise.resolve(next.value.promise).then((value) => {\n",
              "    // Cache the last promise value to make it available to the next\n",
              "    // step of the generator.\n",
              "    outputElement.lastPromiseValue = value;\n",
              "    return next.value.response;\n",
              "  });\n",
              "}\n",
              "\n",
              "/**\n",
              " * Generator function which is called between each async step of the upload\n",
              " * process.\n",
              " * @param {string} inputId Element ID of the input file picker element.\n",
              " * @param {string} outputId Element ID of the output display.\n",
              " * @return {!Iterable<!Object>} Iterable of next steps.\n",
              " */\n",
              "function* uploadFilesStep(inputId, outputId) {\n",
              "  const inputElement = document.getElementById(inputId);\n",
              "  inputElement.disabled = false;\n",
              "\n",
              "  const outputElement = document.getElementById(outputId);\n",
              "  outputElement.innerHTML = '';\n",
              "\n",
              "  const pickedPromise = new Promise((resolve) => {\n",
              "    inputElement.addEventListener('change', (e) => {\n",
              "      resolve(e.target.files);\n",
              "    });\n",
              "  });\n",
              "\n",
              "  const cancel = document.createElement('button');\n",
              "  inputElement.parentElement.appendChild(cancel);\n",
              "  cancel.textContent = 'Cancel upload';\n",
              "  const cancelPromise = new Promise((resolve) => {\n",
              "    cancel.onclick = () => {\n",
              "      resolve(null);\n",
              "    };\n",
              "  });\n",
              "\n",
              "  // Wait for the user to pick the files.\n",
              "  const files = yield {\n",
              "    promise: Promise.race([pickedPromise, cancelPromise]),\n",
              "    response: {\n",
              "      action: 'starting',\n",
              "    }\n",
              "  };\n",
              "\n",
              "  cancel.remove();\n",
              "\n",
              "  // Disable the input element since further picks are not allowed.\n",
              "  inputElement.disabled = true;\n",
              "\n",
              "  if (!files) {\n",
              "    return {\n",
              "      response: {\n",
              "        action: 'complete',\n",
              "      }\n",
              "    };\n",
              "  }\n",
              "\n",
              "  for (const file of files) {\n",
              "    const li = document.createElement('li');\n",
              "    li.append(span(file.name, {fontWeight: 'bold'}));\n",
              "    li.append(span(\n",
              "        `(${file.type || 'n/a'}) - ${file.size} bytes, ` +\n",
              "        `last modified: ${\n",
              "            file.lastModifiedDate ? file.lastModifiedDate.toLocaleDateString() :\n",
              "                                    'n/a'} - `));\n",
              "    const percent = span('0% done');\n",
              "    li.appendChild(percent);\n",
              "\n",
              "    outputElement.appendChild(li);\n",
              "\n",
              "    const fileDataPromise = new Promise((resolve) => {\n",
              "      const reader = new FileReader();\n",
              "      reader.onload = (e) => {\n",
              "        resolve(e.target.result);\n",
              "      };\n",
              "      reader.readAsArrayBuffer(file);\n",
              "    });\n",
              "    // Wait for the data to be ready.\n",
              "    let fileData = yield {\n",
              "      promise: fileDataPromise,\n",
              "      response: {\n",
              "        action: 'continue',\n",
              "      }\n",
              "    };\n",
              "\n",
              "    // Use a chunked sending to avoid message size limits. See b/62115660.\n",
              "    let position = 0;\n",
              "    do {\n",
              "      const length = Math.min(fileData.byteLength - position, MAX_PAYLOAD_SIZE);\n",
              "      const chunk = new Uint8Array(fileData, position, length);\n",
              "      position += length;\n",
              "\n",
              "      const base64 = btoa(String.fromCharCode.apply(null, chunk));\n",
              "      yield {\n",
              "        response: {\n",
              "          action: 'append',\n",
              "          file: file.name,\n",
              "          data: base64,\n",
              "        },\n",
              "      };\n",
              "\n",
              "      let percentDone = fileData.byteLength === 0 ?\n",
              "          100 :\n",
              "          Math.round((position / fileData.byteLength) * 100);\n",
              "      percent.textContent = `${percentDone}% done`;\n",
              "\n",
              "    } while (position < fileData.byteLength);\n",
              "  }\n",
              "\n",
              "  // All done.\n",
              "  yield {\n",
              "    response: {\n",
              "      action: 'complete',\n",
              "    }\n",
              "  };\n",
              "}\n",
              "\n",
              "scope.google = scope.google || {};\n",
              "scope.google.colab = scope.google.colab || {};\n",
              "scope.google.colab._files = {\n",
              "  _uploadFiles,\n",
              "  _uploadFilesContinue,\n",
              "};\n",
              "})(self);\n",
              "</script> "
            ]
          },
          "metadata": {}
        },
        {
          "output_type": "stream",
          "name": "stdout",
          "text": [
            "Saving kaggle.json to kaggle.json\n",
            "rm: cannot remove '/root/.kaggle': No such file or directory\n",
            "Downloading skin-lesion-analysis-toward-melanoma-detection.zip to /content\n",
            "100% 11.3G/11.3G [01:16<00:00, 267MB/s]\n",
            "100% 11.3G/11.3G [01:16<00:00, 158MB/s]\n"
          ]
        }
      ],
      "source": [
        "# Download the dataset\n",
        "from google.colab import files\n",
        "files.upload()\n",
        "!rm -r ~/.kaggle\n",
        "!mkdir ~/.kaggle\n",
        "!mv ./kaggle.json ~/.kaggle/\n",
        "!chmod 600 ~/.kaggle/kaggle.json\n",
        "!kaggle datasets download -d wanderdust/skin-lesion-analysis-toward-melanoma-detection"
      ]
    },
    {
      "cell_type": "code",
      "source": [
        "# Unzip the dataset\n",
        "from zipfile import ZipFile\n",
        "\n",
        "with ZipFile(\"/content/skin-lesion-analysis-toward-melanoma-detection.zip\",\"r\") as dataset:\n",
        "  dataset.extractall()"
      ],
      "metadata": {
        "id": "5JXkTZ0b-OR_"
      },
      "execution_count": 2,
      "outputs": []
    },
    {
      "cell_type": "code",
      "source": [
        "import itertools\n",
        "import os\n",
        "\n",
        "import matplotlib.pylab\n",
        "import numpy\n",
        "\n",
        "import tensorflow"
      ],
      "metadata": {
        "id": "obsEUf2H-UuI"
      },
      "execution_count": 3,
      "outputs": []
    },
    {
      "cell_type": "code",
      "source": [
        "\n",
        "import tensorflow_datasets\n",
        "\n",
        "train_data_dir=\"/content/skin-lesions/train\"\n",
        "test_data_dir=\"/content/skin-lesions/test\"\n",
        "batch_size = 32\n",
        "img_height = 224\n",
        "img_width = 224\n",
        "\n",
        "train_ds = tensorflow.keras.utils.image_dataset_from_directory(\n",
        "  train_data_dir,\n",
        "  label_mode=\"categorical\",\n",
        "  seed=123,\n",
        "  image_size=(img_height, img_width),\n",
        "  batch_size=batch_size)"
      ],
      "metadata": {
        "colab": {
          "base_uri": "https://localhost:8080/"
        },
        "id": "ftpjaayWPHr2",
        "outputId": "4780b989-6d81-4bd7-f7e6-654a84eb7a1b"
      },
      "execution_count": 4,
      "outputs": [
        {
          "output_type": "stream",
          "name": "stdout",
          "text": [
            "Found 2000 files belonging to 3 classes.\n"
          ]
        }
      ]
    },
    {
      "cell_type": "code",
      "source": [
        "val_ds = tensorflow.keras.utils.image_dataset_from_directory(\n",
        "  test_data_dir,\n",
        "  label_mode=\"categorical\",\n",
        "  seed=123,\n",
        "  image_size=(img_height, img_width),\n",
        "  batch_size=batch_size)"
      ],
      "metadata": {
        "colab": {
          "base_uri": "https://localhost:8080/"
        },
        "id": "aRddMPEzPdnw",
        "outputId": "e2bf1c08-ee14-436a-fa5f-70d9cb7d6661"
      },
      "execution_count": 5,
      "outputs": [
        {
          "output_type": "stream",
          "name": "stdout",
          "text": [
            "Found 600 files belonging to 3 classes.\n"
          ]
        }
      ]
    },
    {
      "cell_type": "code",
      "source": [
        "AUTOTUNE = tensorflow.data.AUTOTUNE\n",
        "\n",
        "train_ds = train_ds.cache().prefetch(buffer_size=AUTOTUNE)\n",
        "val_ds = val_ds.cache().prefetch(buffer_size=AUTOTUNE)"
      ],
      "metadata": {
        "id": "Hr2k3CPum0ws"
      },
      "execution_count": 6,
      "outputs": []
    },
    {
      "cell_type": "code",
      "source": [
        "callback = tensorflow.keras.callbacks.EarlyStopping(monitor='loss', patience=3)"
      ],
      "metadata": {
        "id": "2nqOIjV9QT1G"
      },
      "execution_count": 7,
      "outputs": []
    },
    {
      "cell_type": "code",
      "source": [
        "img_shape=(224, 224, 3)\n",
        "model  = tensorflow.keras.applications.densenet.DenseNet169(input_shape=img_shape,\n",
        "    #The Fully-Connected layer generates 1,000 different output labels, therefore  \"cut off\" the Fully-Connected layer - also called the \"top\" model.\n",
        "    include_top=False,\n",
        "    weights='imagenet',\n",
        "    classifier_activation='softmax',\n",
        ")"
      ],
      "metadata": {
        "id": "Z-jDlnS-aO8t",
        "colab": {
          "base_uri": "https://localhost:8080/"
        },
        "outputId": "91b9861d-7a4d-4f32-aaf8-54ee2b7cb345"
      },
      "execution_count": 8,
      "outputs": [
        {
          "output_type": "stream",
          "name": "stdout",
          "text": [
            "Downloading data from https://storage.googleapis.com/tensorflow/keras-applications/densenet/densenet169_weights_tf_dim_ordering_tf_kernels_notop.h5\n",
            "51877672/51877672 [==============================] - 0s 0us/step\n"
          ]
        }
      ]
    },
    {
      "cell_type": "code",
      "source": [
        "image_batch, label_batch = next(iter(train_ds))\n",
        "feature_batch = model(image_batch)\n",
        "print(feature_batch.shape)\n",
        "\n",
        "global_average_layer = tensorflow.keras.layers.GlobalAveragePooling2D()\n",
        "feature_batch_average = global_average_layer(feature_batch)\n",
        "print(feature_batch_average.shape)\n",
        "\n",
        "prediction_layer = tensorflow.keras.layers.Dense(3)\n",
        "prediction_batch = prediction_layer(feature_batch_average)\n",
        "print(prediction_batch.shape)"
      ],
      "metadata": {
        "colab": {
          "base_uri": "https://localhost:8080/"
        },
        "id": "E9aDmuETPmQT",
        "outputId": "c3b9c458-481b-411a-ce90-93e149ca3552"
      },
      "execution_count": 9,
      "outputs": [
        {
          "output_type": "stream",
          "name": "stdout",
          "text": [
            "(32, 7, 7, 1664)\n",
            "(32, 1664)\n",
            "(32, 3)\n"
          ]
        }
      ]
    },
    {
      "cell_type": "code",
      "source": [
        "model.trainable = False"
      ],
      "metadata": {
        "id": "nO0HTqzTYHUK"
      },
      "execution_count": 10,
      "outputs": []
    },
    {
      "cell_type": "code",
      "source": [
        "preprocess_input = tensorflow.keras.applications.densenet.preprocess_input\n",
        "inputs = tensorflow.keras.Input(shape=(224, 224, 3))\n",
        "x = preprocess_input(inputs)\n",
        "x = model(x, training=False)\n",
        "x = global_average_layer(x)\n",
        "x = tensorflow.keras.layers.Dropout(0.2)(x)\n",
        "outputs = prediction_layer(x)\n",
        "model = tensorflow.keras.Model(inputs, outputs)\n",
        "base_learning_rate = 0.001\n",
        "initial_epochs = 50\n",
        "callback = tensorflow.keras.callbacks.EarlyStopping(monitor='loss', patience=3)\n",
        "model.compile(optimizer=tensorflow.keras.optimizers.Adam(learning_rate=base_learning_rate),\n",
        "              loss=tensorflow.keras.losses.CategoricalCrossentropy(from_logits=True),\n",
        "              metrics=['accuracy'])\n",
        "\n",
        "history = model.fit(train_ds,\n",
        "                    epochs=initial_epochs,\n",
        "                    validation_data=val_ds,\n",
        "                    callbacks=[callback])"
      ],
      "metadata": {
        "colab": {
          "base_uri": "https://localhost:8080/"
        },
        "id": "yANDrhOJYh9z",
        "outputId": "af446e8c-de50-4659-beed-69d6fe186bfc"
      },
      "execution_count": 11,
      "outputs": [
        {
          "output_type": "stream",
          "name": "stdout",
          "text": [
            "Epoch 1/50\n",
            "63/63 [==============================] - 299s 4s/step - loss: 0.8538 - accuracy: 0.6740 - val_loss: 0.7544 - val_accuracy: 0.6883\n",
            "Epoch 2/50\n",
            "63/63 [==============================] - 9s 143ms/step - loss: 0.6770 - accuracy: 0.7120 - val_loss: 0.7117 - val_accuracy: 0.7017\n",
            "Epoch 3/50\n",
            "63/63 [==============================] - 10s 152ms/step - loss: 0.6318 - accuracy: 0.7420 - val_loss: 0.6893 - val_accuracy: 0.7200\n",
            "Epoch 4/50\n",
            "63/63 [==============================] - 9s 142ms/step - loss: 0.5978 - accuracy: 0.7435 - val_loss: 0.6762 - val_accuracy: 0.7167\n",
            "Epoch 5/50\n",
            "63/63 [==============================] - 9s 145ms/step - loss: 0.5778 - accuracy: 0.7645 - val_loss: 0.6748 - val_accuracy: 0.7200\n",
            "Epoch 6/50\n",
            "63/63 [==============================] - 9s 143ms/step - loss: 0.5613 - accuracy: 0.7685 - val_loss: 0.6659 - val_accuracy: 0.7233\n",
            "Epoch 7/50\n",
            "63/63 [==============================] - 9s 142ms/step - loss: 0.5357 - accuracy: 0.7810 - val_loss: 0.6629 - val_accuracy: 0.7350\n",
            "Epoch 8/50\n",
            "63/63 [==============================] - 9s 142ms/step - loss: 0.5372 - accuracy: 0.7755 - val_loss: 0.6638 - val_accuracy: 0.7250\n",
            "Epoch 9/50\n",
            "63/63 [==============================] - 9s 142ms/step - loss: 0.5160 - accuracy: 0.7890 - val_loss: 0.6627 - val_accuracy: 0.7383\n",
            "Epoch 10/50\n",
            "63/63 [==============================] - 10s 154ms/step - loss: 0.5133 - accuracy: 0.7825 - val_loss: 0.6517 - val_accuracy: 0.7367\n",
            "Epoch 11/50\n",
            "63/63 [==============================] - 9s 144ms/step - loss: 0.5119 - accuracy: 0.7945 - val_loss: 0.6769 - val_accuracy: 0.7300\n",
            "Epoch 12/50\n",
            "63/63 [==============================] - 9s 151ms/step - loss: 0.5020 - accuracy: 0.7855 - val_loss: 0.6610 - val_accuracy: 0.7283\n",
            "Epoch 13/50\n",
            "63/63 [==============================] - 9s 142ms/step - loss: 0.5022 - accuracy: 0.7945 - val_loss: 0.6644 - val_accuracy: 0.7350\n",
            "Epoch 14/50\n",
            "63/63 [==============================] - 9s 143ms/step - loss: 0.4827 - accuracy: 0.7985 - val_loss: 0.6519 - val_accuracy: 0.7317\n",
            "Epoch 15/50\n",
            "63/63 [==============================] - 9s 144ms/step - loss: 0.4808 - accuracy: 0.8045 - val_loss: 0.6682 - val_accuracy: 0.7267\n",
            "Epoch 16/50\n",
            "63/63 [==============================] - 9s 145ms/step - loss: 0.4800 - accuracy: 0.8135 - val_loss: 0.6680 - val_accuracy: 0.7233\n",
            "Epoch 17/50\n",
            "63/63 [==============================] - 10s 152ms/step - loss: 0.4746 - accuracy: 0.8075 - val_loss: 0.6549 - val_accuracy: 0.7350\n",
            "Epoch 18/50\n",
            "63/63 [==============================] - 9s 143ms/step - loss: 0.4620 - accuracy: 0.8100 - val_loss: 0.6404 - val_accuracy: 0.7267\n",
            "Epoch 19/50\n",
            "63/63 [==============================] - 9s 145ms/step - loss: 0.4718 - accuracy: 0.8070 - val_loss: 0.6716 - val_accuracy: 0.7267\n",
            "Epoch 20/50\n",
            "63/63 [==============================] - 9s 144ms/step - loss: 0.4571 - accuracy: 0.8175 - val_loss: 0.6921 - val_accuracy: 0.7067\n",
            "Epoch 21/50\n",
            "63/63 [==============================] - 9s 144ms/step - loss: 0.4546 - accuracy: 0.8175 - val_loss: 0.6876 - val_accuracy: 0.7067\n",
            "Epoch 22/50\n",
            "63/63 [==============================] - 9s 143ms/step - loss: 0.4550 - accuracy: 0.8055 - val_loss: 0.6634 - val_accuracy: 0.7283\n",
            "Epoch 23/50\n",
            "63/63 [==============================] - 9s 143ms/step - loss: 0.4560 - accuracy: 0.8115 - val_loss: 0.6755 - val_accuracy: 0.7250\n",
            "Epoch 24/50\n",
            "63/63 [==============================] - 9s 145ms/step - loss: 0.4539 - accuracy: 0.8165 - val_loss: 0.6617 - val_accuracy: 0.7350\n",
            "Epoch 25/50\n",
            "63/63 [==============================] - 9s 145ms/step - loss: 0.4484 - accuracy: 0.8120 - val_loss: 0.6757 - val_accuracy: 0.7233\n",
            "Epoch 26/50\n",
            "63/63 [==============================] - 9s 145ms/step - loss: 0.4581 - accuracy: 0.8165 - val_loss: 0.6735 - val_accuracy: 0.7317\n",
            "Epoch 27/50\n",
            "63/63 [==============================] - 9s 143ms/step - loss: 0.4647 - accuracy: 0.8070 - val_loss: 0.6732 - val_accuracy: 0.7233\n",
            "Epoch 28/50\n",
            "63/63 [==============================] - 9s 145ms/step - loss: 0.4392 - accuracy: 0.8165 - val_loss: 0.6758 - val_accuracy: 0.7217\n",
            "Epoch 29/50\n",
            "63/63 [==============================] - 9s 145ms/step - loss: 0.4435 - accuracy: 0.8135 - val_loss: 0.6574 - val_accuracy: 0.7250\n",
            "Epoch 30/50\n",
            "63/63 [==============================] - 9s 144ms/step - loss: 0.4497 - accuracy: 0.8150 - val_loss: 0.6653 - val_accuracy: 0.7200\n",
            "Epoch 31/50\n",
            "63/63 [==============================] - 9s 143ms/step - loss: 0.4523 - accuracy: 0.8250 - val_loss: 0.6746 - val_accuracy: 0.7167\n"
          ]
        }
      ]
    },
    {
      "cell_type": "code",
      "source": [
        "acc = history.history['accuracy']\n",
        "val_acc = history.history['val_accuracy']\n",
        "\n",
        "loss = history.history['loss']\n",
        "val_loss = history.history['val_loss']\n",
        "\n",
        "matplotlib.pyplot.figure(figsize=(8, 8))\n",
        "matplotlib.pyplot.subplot(2, 1, 1)\n",
        "matplotlib.pyplot.plot(acc, label='Training Accuracy')\n",
        "matplotlib.pyplot.plot(val_acc, label='Validation Accuracy')\n",
        "matplotlib.pyplot.legend(loc='lower right')\n",
        "matplotlib.pyplot.ylabel('Accuracy')\n",
        "# matplotlib.pyplot.ylim([min(matplotlib.pyplot.ylim()),1])\n",
        "matplotlib.pyplot.title('Training and Validation Accuracy')\n",
        "\n",
        "matplotlib.pyplot.subplot(2, 1, 2)\n",
        "matplotlib.pyplot.plot(loss, label='Training Loss')\n",
        "matplotlib.pyplot.plot(val_loss, label='Validation Loss')\n",
        "matplotlib.pyplot.legend(loc='upper right')\n",
        "matplotlib.pyplot.ylabel('Cross Entropy')\n",
        "# matplotlib.pyplot.ylim([0,1.0])\n",
        "matplotlib.pyplot.title('Training and Validation Loss for model 3')\n",
        "matplotlib.pyplot.xlabel('epoch')\n",
        "matplotlib.pyplot.show()"
      ],
      "metadata": {
        "id": "AfakqLSTa3bn",
        "colab": {
          "base_uri": "https://localhost:8080/",
          "height": 718
        },
        "outputId": "b837df19-8538-40c6-d895-fd65e23e7ce9"
      },
      "execution_count": 12,
      "outputs": [
        {
          "output_type": "display_data",
          "data": {
            "text/plain": [
              "<Figure size 800x800 with 2 Axes>"
            ],
            "image/png": "[encoded data removed]"
          },
          "metadata": {}
        }
      ]
    },
    {
      "cell_type": "code",
      "source": [
        "model.summary()"
      ],
      "metadata": {
        "colab": {
          "base_uri": "https://localhost:8080/"
        },
        "id": "fY48XAXgmoiq",
        "outputId": "f600ef00-c83d-4cfc-b9a3-2f8997daa673"
      },
      "execution_count": 13,
      "outputs": [
        {
          "output_type": "stream",
          "name": "stdout",
          "text": [
            "Model: \"model\"\n",
            "_________________________________________________________________\n",
            " Layer (type)                Output Shape              Param #   \n",
            "=================================================================\n",
            " input_2 (InputLayer)        [(None, 224, 224, 3)]     0         \n",
            "                                                                 \n",
            " tf.math.truediv (TFOpLambda  (None, 224, 224, 3)      0         \n",
            " )                                                               \n",
            "                                                                 \n",
            " tf.nn.bias_add (TFOpLambda)  (None, 224, 224, 3)      0         \n",
            "                                                                 \n",
            " tf.math.truediv_1 (TFOpLamb  (None, 224, 224, 3)      0         \n",
            " da)                                                             \n",
            "                                                                 \n",
            " densenet169 (Functional)    (None, 7, 7, 1664)        12642880  \n",
            "                                                                 \n",
            " global_average_pooling2d (G  (None, 1664)             0         \n",
            " lobalAveragePooling2D)                                          \n",
            "                                                                 \n",
            " dropout (Dropout)           (None, 1664)              0         \n",
            "                                                                 \n",
            " dense (Dense)               (None, 3)                 4995      \n",
            "                                                                 \n",
            "=================================================================\n",
            "Total params: 12,647,875\n",
            "Trainable params: 4,995\n",
            "Non-trainable params: 12,642,880\n",
            "_________________________________________________________________\n"
          ]
        }
      ]
    },
    {
      "cell_type": "code",
      "source": [],
      "metadata": {
        "id": "MSrLdvj2p6qA"
      },
      "execution_count": null,
      "outputs": []
    }
  ]
}