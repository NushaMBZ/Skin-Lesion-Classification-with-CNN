{
  "nbformat": 4,
  "nbformat_minor": 0,
  "metadata": {
    "colab": {
      "provenance": [],
      "gpuType": "T4"
    },
    "kernelspec": {
      "name": "python3",
      "display_name": "Python 3"
    },
    "language_info": {
      "name": "python"
    },
    "accelerator": "GPU"
  },
  "cells": [
    {
      "cell_type": "code",
      "execution_count": 1,
      "metadata": {
        "colab": {
          "base_uri": "https://localhost:8080/",
          "height": 141
        },
        "id": "toBiITry-LrG",
        "outputId": "2c077e11-85ce-4624-91be-d7930911269e"
      },
      "outputs": [
        {
          "output_type": "display_data",
          "data": {
            "text/plain": [
              "<IPython.core.display.HTML object>"
            ],
            "text/html": [
              "\n",
              "     <input type=\"file\" id=\"files-2d165166-1dee-4fe0-8a73-80869741451f\" name=\"files[]\" multiple disabled\n",
              "        style=\"border:none\" />\n",
              "     <output id=\"result-2d165166-1dee-4fe0-8a73-80869741451f\">\n",
              "      Upload widget is only available when the cell has been executed in the\n",
              "      current browser session. Please rerun this cell to enable.\n",
              "      </output>\n",
              "      <script>// Copyright 2017 Google LLC\n",
              "//\n",
              "// Licensed under the Apache License, Version 2.0 (the \"License\");\n",
              "// you may not use this file except in compliance with the License.\n",
              "// You may obtain a copy of the License at\n",
              "//\n",
              "//      http://www.apache.org/licenses/LICENSE-2.0\n",
              "//\n",
              "// Unless required by applicable law or agreed to in writing, software\n",
              "// distributed under the License is distributed on an \"AS IS\" BASIS,\n",
              "// WITHOUT WARRANTIES OR CONDITIONS OF ANY KIND, either express or implied.\n",
              "// See the License for the specific language governing permissions and\n",
              "// limitations under the License.\n",
              "\n",
              "/**\n",
              " * @fileoverview Helpers for google.colab Python module.\n",
              " */\n",
              "(function(scope) {\n",
              "function span(text, styleAttributes = {}) {\n",
              "  const element = document.createElement('span');\n",
              "  element.textContent = text;\n",
              "  for (const key of Object.keys(styleAttributes)) {\n",
              "    element.style[key] = styleAttributes[key];\n",
              "  }\n",
              "  return element;\n",
              "}\n",
              "\n",
              "// Max number of bytes which will be uploaded at a time.\n",
              "const MAX_PAYLOAD_SIZE = 100 * 1024;\n",
              "\n",
              "function _uploadFiles(inputId, outputId) {\n",
              "  const steps = uploadFilesStep(inputId, outputId);\n",
              "  const outputElement = document.getElementById(outputId);\n",
              "  // Cache steps on the outputElement to make it available for the next call\n",
              "  // to uploadFilesContinue from Python.\n",
              "  outputElement.steps = steps;\n",
              "\n",
              "  return _uploadFilesContinue(outputId);\n",
              "}\n",
              "\n",
              "// This is roughly an async generator (not supported in the browser yet),\n",
              "// where there are multiple asynchronous steps and the Python side is going\n",
              "// to poll for completion of each step.\n",
              "// This uses a Promise to block the python side on completion of each step,\n",
              "// then passes the result of the previous step as the input to the next step.\n",
              "function _uploadFilesContinue(outputId) {\n",
              "  const outputElement = document.getElementById(outputId);\n",
              "  const steps = outputElement.steps;\n",
              "\n",
              "  const next = steps.next(outputElement.lastPromiseValue);\n",
              "  return Promise.resolve(next.value.promise).then((value) => {\n",
              "    // Cache the last promise value to make it available to the next\n",
              "    // step of the generator.\n",
              "    outputElement.lastPromiseValue = value;\n",
              "    return next.value.response;\n",
              "  });\n",
              "}\n",
              "\n",
              "/**\n",
              " * Generator function which is called between each async step of the upload\n",
              " * process.\n",
              " * @param {string} inputId Element ID of the input file picker element.\n",
              " * @param {string} outputId Element ID of the output display.\n",
              " * @return {!Iterable<!Object>} Iterable of next steps.\n",
              " */\n",
              "function* uploadFilesStep(inputId, outputId) {\n",
              "  const inputElement = document.getElementById(inputId);\n",
              "  inputElement.disabled = false;\n",
              "\n",
              "  const outputElement = document.getElementById(outputId);\n",
              "  outputElement.innerHTML = '';\n",
              "\n",
              "  const pickedPromise = new Promise((resolve) => {\n",
              "    inputElement.addEventListener('change', (e) => {\n",
              "      resolve(e.target.files);\n",
              "    });\n",
              "  });\n",
              "\n",
              "  const cancel = document.createElement('button');\n",
              "  inputElement.parentElement.appendChild(cancel);\n",
              "  cancel.textContent = 'Cancel upload';\n",
              "  const cancelPromise = new Promise((resolve) => {\n",
              "    cancel.onclick = () => {\n",
              "      resolve(null);\n",
              "    };\n",
              "  });\n",
              "\n",
              "  // Wait for the user to pick the files.\n",
              "  const files = yield {\n",
              "    promise: Promise.race([pickedPromise, cancelPromise]),\n",
              "    response: {\n",
              "      action: 'starting',\n",
              "    }\n",
              "  };\n",
              "\n",
              "  cancel.remove();\n",
              "\n",
              "  // Disable the input element since further picks are not allowed.\n",
              "  inputElement.disabled = true;\n",
              "\n",
              "  if (!files) {\n",
              "    return {\n",
              "      response: {\n",
              "        action: 'complete',\n",
              "      }\n",
              "    };\n",
              "  }\n",
              "\n",
              "  for (const file of files) {\n",
              "    const li = document.createElement('li');\n",
              "    li.append(span(file.name, {fontWeight: 'bold'}));\n",
              "    li.append(span(\n",
              "        `(${file.type || 'n/a'}) - ${file.size} bytes, ` +\n",
              "        `last modified: ${\n",
              "            file.lastModifiedDate ? file.lastModifiedDate.toLocaleDateString() :\n",
              "                                    'n/a'} - `));\n",
              "    const percent = span('0% done');\n",
              "    li.appendChild(percent);\n",
              "\n",
              "    outputElement.appendChild(li);\n",
              "\n",
              "    const fileDataPromise = new Promise((resolve) => {\n",
              "      const reader = new FileReader();\n",
              "      reader.onload = (e) => {\n",
              "        resolve(e.target.result);\n",
              "      };\n",
              "      reader.readAsArrayBuffer(file);\n",
              "    });\n",
              "    // Wait for the data to be ready.\n",
              "    let fileData = yield {\n",
              "      promise: fileDataPromise,\n",
              "      response: {\n",
              "        action: 'continue',\n",
              "      }\n",
              "    };\n",
              "\n",
              "    // Use a chunked sending to avoid message size limits. See b/62115660.\n",
              "    let position = 0;\n",
              "    do {\n",
              "      const length = Math.min(fileData.byteLength - position, MAX_PAYLOAD_SIZE);\n",
              "      const chunk = new Uint8Array(fileData, position, length);\n",
              "      position += length;\n",
              "\n",
              "      const base64 = btoa(String.fromCharCode.apply(null, chunk));\n",
              "      yield {\n",
              "        response: {\n",
              "          action: 'append',\n",
              "          file: file.name,\n",
              "          data: base64,\n",
              "        },\n",
              "      };\n",
              "\n",
              "      let percentDone = fileData.byteLength === 0 ?\n",
              "          100 :\n",
              "          Math.round((position / fileData.byteLength) * 100);\n",
              "      percent.textContent = `${percentDone}% done`;\n",
              "\n",
              "    } while (position < fileData.byteLength);\n",
              "  }\n",
              "\n",
              "  // All done.\n",
              "  yield {\n",
              "    response: {\n",
              "      action: 'complete',\n",
              "    }\n",
              "  };\n",
              "}\n",
              "\n",
              "scope.google = scope.google || {};\n",
              "scope.google.colab = scope.google.colab || {};\n",
              "scope.google.colab._files = {\n",
              "  _uploadFiles,\n",
              "  _uploadFilesContinue,\n",
              "};\n",
              "})(self);\n",
              "</script> "
            ]
          },
          "metadata": {}
        },
        {
          "output_type": "stream",
          "name": "stdout",
          "text": [
            "Saving kaggle.json to kaggle.json\n",
            "rm: cannot remove '/root/.kaggle': No such file or directory\n",
            "Downloading skin-lesion-analysis-toward-melanoma-detection.zip to /content\n",
            "100% 11.3G/11.3G [01:34<00:00, 160MB/s]\n",
            "100% 11.3G/11.3G [01:34<00:00, 129MB/s]\n"
          ]
        }
      ],
      "source": [
        "# Download the dataset\n",
        "from google.colab import files\n",
        "files.upload()\n",
        "!rm -r ~/.kaggle\n",
        "!mkdir ~/.kaggle\n",
        "!mv ./kaggle.json ~/.kaggle/\n",
        "!chmod 600 ~/.kaggle/kaggle.json\n",
        "!kaggle datasets download -d wanderdust/skin-lesion-analysis-toward-melanoma-detection"
      ]
    },
    {
      "cell_type": "code",
      "source": [
        "# Unzip the dataset\n",
        "from zipfile import ZipFile\n",
        "\n",
        "with ZipFile(\"/content/skin-lesion-analysis-toward-melanoma-detection.zip\",\"r\") as dataset:\n",
        "  dataset.extractall()"
      ],
      "metadata": {
        "id": "5JXkTZ0b-OR_"
      },
      "execution_count": 2,
      "outputs": []
    },
    {
      "cell_type": "code",
      "source": [
        "import itertools\n",
        "import os\n",
        "\n",
        "import matplotlib.pylab\n",
        "import numpy\n",
        "\n",
        "import tensorflow"
      ],
      "metadata": {
        "id": "obsEUf2H-UuI"
      },
      "execution_count": 3,
      "outputs": []
    },
    {
      "cell_type": "code",
      "source": [
        "\n",
        "import tensorflow_datasets\n",
        "\n",
        "train_data_dir=\"/content/skin-lesions/train\"\n",
        "test_data_dir=\"/content/skin-lesions/test\"\n",
        "batch_size = 32\n",
        "img_height = 300\n",
        "img_width = 300\n",
        "\n",
        "train_ds = tensorflow.keras.utils.image_dataset_from_directory(\n",
        "  train_data_dir,\n",
        "  label_mode=\"categorical\",\n",
        "  seed=123,\n",
        "  image_size=(img_height, img_width),\n",
        "  batch_size=batch_size)"
      ],
      "metadata": {
        "colab": {
          "base_uri": "https://localhost:8080/"
        },
        "id": "ftpjaayWPHr2",
        "outputId": "9b582e2c-66d6-4dba-9538-d956b8acdf3f"
      },
      "execution_count": 4,
      "outputs": [
        {
          "output_type": "stream",
          "name": "stdout",
          "text": [
            "Found 2000 files belonging to 3 classes.\n"
          ]
        }
      ]
    },
    {
      "cell_type": "code",
      "source": [
        "val_ds = tensorflow.keras.utils.image_dataset_from_directory(\n",
        "  test_data_dir,\n",
        "  label_mode=\"categorical\",\n",
        "  seed=123,\n",
        "  image_size=(img_height, img_width),\n",
        "  batch_size=batch_size)"
      ],
      "metadata": {
        "colab": {
          "base_uri": "https://localhost:8080/"
        },
        "id": "aRddMPEzPdnw",
        "outputId": "4e9e6503-1830-40cb-fdf8-f469f745f2b7"
      },
      "execution_count": 5,
      "outputs": [
        {
          "output_type": "stream",
          "name": "stdout",
          "text": [
            "Found 600 files belonging to 3 classes.\n"
          ]
        }
      ]
    },
    {
      "cell_type": "code",
      "source": [
        "AUTOTUNE = tensorflow.data.AUTOTUNE\n",
        "\n",
        "train_ds = train_ds.cache().prefetch(buffer_size=AUTOTUNE)\n",
        "val_ds = val_ds.cache().prefetch(buffer_size=AUTOTUNE)"
      ],
      "metadata": {
        "id": "Hr2k3CPum0ws"
      },
      "execution_count": 13,
      "outputs": []
    },
    {
      "cell_type": "code",
      "source": [
        "callback = tensorflow.keras.callbacks.EarlyStopping(monitor='loss', patience=3)"
      ],
      "metadata": {
        "id": "2nqOIjV9QT1G"
      },
      "execution_count": 6,
      "outputs": []
    },
    {
      "cell_type": "code",
      "source": [
        "img_shape=(300, 300, 3)\n",
        "model2  = tensorflow.keras.applications.efficientnet.EfficientNetB3(\n",
        "    include_top=False,\n",
        "    weights='imagenet',\n",
        "    classifier_activation='softmax',\n",
        ")"
      ],
      "metadata": {
        "id": "Z-jDlnS-aO8t",
        "colab": {
          "base_uri": "https://localhost:8080/"
        },
        "outputId": "4987eda0-c46b-4c00-db64-5a4ea34235ef"
      },
      "execution_count": 7,
      "outputs": [
        {
          "output_type": "stream",
          "name": "stdout",
          "text": [
            "Downloading data from https://storage.googleapis.com/keras-applications/efficientnetb3_notop.h5\n",
            "43941136/43941136 [==============================] - 0s 0us/step\n"
          ]
        }
      ]
    },
    {
      "cell_type": "code",
      "source": [
        "image_batch, label_batch = next(iter(train_ds))\n",
        "feature_batch = model2(image_batch)\n",
        "print(feature_batch.shape)\n",
        "\n",
        "global_average_layer = tensorflow.keras.layers.GlobalAveragePooling2D()\n",
        "feature_batch_average = global_average_layer(feature_batch)\n",
        "print(feature_batch_average.shape)\n",
        "\n",
        "prediction_layer = tensorflow.keras.layers.Dense(3)\n",
        "prediction_batch = prediction_layer(feature_batch_average)\n",
        "print(prediction_batch.shape)"
      ],
      "metadata": {
        "colab": {
          "base_uri": "https://localhost:8080/"
        },
        "id": "E9aDmuETPmQT",
        "outputId": "61697d7d-8382-4fbc-85a8-b39e73af580a"
      },
      "execution_count": 14,
      "outputs": [
        {
          "output_type": "stream",
          "name": "stdout",
          "text": [
            "(32, 9, 9, 1536)\n",
            "(32, 1536)\n",
            "(32, 3)\n"
          ]
        }
      ]
    },
    {
      "cell_type": "code",
      "source": [
        "model2.trainable = False"
      ],
      "metadata": {
        "id": "nO0HTqzTYHUK"
      },
      "execution_count": 15,
      "outputs": []
    },
    {
      "cell_type": "code",
      "source": [
        "preprocess_input = tensorflow.keras.applications.efficientnet.preprocess_input\n",
        "inputs = tensorflow.keras.Input(shape=(300, 300, 3))\n",
        "x = preprocess_input(inputs)\n",
        "x = model2(x, training=False)\n",
        "x = global_average_layer(x)\n",
        "x = tensorflow.keras.layers.Dropout(0.2)(x)\n",
        "outputs = prediction_layer(x)\n",
        "model = tensorflow.keras.Model(inputs, outputs)\n",
        "base_learning_rate = 0.001\n",
        "initial_epochs = 10\n",
        "callback = tensorflow.keras.callbacks.EarlyStopping(monitor='loss', patience=3)\n",
        "model.compile(optimizer=tensorflow.keras.optimizers.Adam(learning_rate=base_learning_rate),\n",
        "              loss=tensorflow.keras.losses.CategoricalCrossentropy(from_logits=True),\n",
        "              metrics=['accuracy'])\n",
        "\n",
        "history = model.fit(train_ds,\n",
        "                    epochs=initial_epochs,\n",
        "                    validation_data=val_ds,\n",
        "                    callbacks=[callback])"
      ],
      "metadata": {
        "colab": {
          "base_uri": "https://localhost:8080/"
        },
        "id": "yANDrhOJYh9z",
        "outputId": "538f337a-6f61-4bed-81fa-5d941a23c0e5"
      },
      "execution_count": 16,
      "outputs": [
        {
          "output_type": "stream",
          "name": "stdout",
          "text": [
            "Epoch 1/10\n",
            "63/63 [==============================] - 303s 4s/step - loss: 0.8040 - accuracy: 0.6730 - val_loss: 0.7881 - val_accuracy: 0.6583\n",
            "Epoch 2/10\n",
            "63/63 [==============================] - 15s 245ms/step - loss: 0.6715 - accuracy: 0.7160 - val_loss: 0.7359 - val_accuracy: 0.6750\n",
            "Epoch 3/10\n",
            "63/63 [==============================] - 15s 246ms/step - loss: 0.6326 - accuracy: 0.7385 - val_loss: 0.7161 - val_accuracy: 0.6967\n",
            "Epoch 4/10\n",
            "63/63 [==============================] - 16s 248ms/step - loss: 0.6054 - accuracy: 0.7535 - val_loss: 0.6994 - val_accuracy: 0.7083\n",
            "Epoch 5/10\n",
            "63/63 [==============================] - 17s 275ms/step - loss: 0.5830 - accuracy: 0.7620 - val_loss: 0.6887 - val_accuracy: 0.7117\n",
            "Epoch 6/10\n",
            "63/63 [==============================] - 16s 247ms/step - loss: 0.5663 - accuracy: 0.7640 - val_loss: 0.6825 - val_accuracy: 0.7183\n",
            "Epoch 7/10\n",
            "63/63 [==============================] - 17s 274ms/step - loss: 0.5455 - accuracy: 0.7720 - val_loss: 0.6816 - val_accuracy: 0.7233\n",
            "Epoch 8/10\n",
            "63/63 [==============================] - 15s 247ms/step - loss: 0.5440 - accuracy: 0.7770 - val_loss: 0.6792 - val_accuracy: 0.7150\n",
            "Epoch 9/10\n",
            "63/63 [==============================] - 15s 247ms/step - loss: 0.5309 - accuracy: 0.7855 - val_loss: 0.6734 - val_accuracy: 0.7267\n",
            "Epoch 10/10\n",
            "63/63 [==============================] - 17s 274ms/step - loss: 0.5157 - accuracy: 0.7910 - val_loss: 0.6720 - val_accuracy: 0.7250\n"
          ]
        }
      ]
    },
    {
      "cell_type": "code",
      "source": [
        "acc = history.history['accuracy']\n",
        "val_acc = history.history['val_accuracy']\n",
        "\n",
        "loss = history.history['loss']\n",
        "val_loss = history.history['val_loss']\n",
        "\n",
        "matplotlib.pyplot.figure(figsize=(8, 8))\n",
        "matplotlib.pyplot.subplot(2, 1, 1)\n",
        "matplotlib.pyplot.plot(acc, label='Training Accuracy')\n",
        "matplotlib.pyplot.plot(val_acc, label='Validation Accuracy')\n",
        "matplotlib.pyplot.legend(loc='lower right')\n",
        "matplotlib.pyplot.ylabel('Accuracy')\n",
        "matplotlib.pyplot.ylim([min(matplotlib.pyplot.ylim()),1])\n",
        "matplotlib.pyplot.title('Training and Validation Accuracy')\n",
        "\n",
        "matplotlib.pyplot.subplot(2, 1, 2)\n",
        "matplotlib.pyplot.plot(loss, label='Training Loss')\n",
        "matplotlib.pyplot.plot(val_loss, label='Validation Loss')\n",
        "matplotlib.pyplot.legend(loc='upper right')\n",
        "matplotlib.pyplot.ylabel('Cross Entropy')\n",
        "matplotlib.pyplot.ylim([0,1.0])\n",
        "matplotlib.pyplot.title('Training and Validation Loss for model 3')\n",
        "matplotlib.pyplot.xlabel('epoch')\n",
        "matplotlib.pyplot.show()"
      ],
      "metadata": {
        "id": "AfakqLSTa3bn",
        "colab": {
          "base_uri": "https://localhost:8080/",
          "height": 718
        },
        "outputId": "fa75dc60-41b3-401c-96fc-1c332d0e635a"
      },
      "execution_count": 17,
      "outputs": [
        {
          "output_type": "display_data",
          "data": {
            "text/plain": [
              "<Figure size 800x800 with 2 Axes>"
            ],
            "image/png": "[encoded data removed]"
          },
          "metadata": {}
        }
      ]
    },
    {
      "cell_type": "code",
      "source": [
        "model.summary()"
      ],
      "metadata": {
        "colab": {
          "base_uri": "https://localhost:8080/"
        },
        "id": "fY48XAXgmoiq",
        "outputId": "56efd4af-e37a-4464-a4d2-b8433dd685ac"
      },
      "execution_count": 18,
      "outputs": [
        {
          "output_type": "stream",
          "name": "stdout",
          "text": [
            "Model: \"model_2\"\n",
            "_________________________________________________________________\n",
            " Layer (type)                Output Shape              Param #   \n",
            "=================================================================\n",
            " input_4 (InputLayer)        [(None, 300, 300, 3)]     0         \n",
            "                                                                 \n",
            " efficientnetb3 (Functional)  (None, None, None, 1536)  10783535 \n",
            "                                                                 \n",
            " global_average_pooling2d_1   (None, 1536)             0         \n",
            " (GlobalAveragePooling2D)                                        \n",
            "                                                                 \n",
            " dropout (Dropout)           (None, 1536)              0         \n",
            "                                                                 \n",
            " dense_1 (Dense)             (None, 3)                 4611      \n",
            "                                                                 \n",
            "=================================================================\n",
            "Total params: 10,788,146\n",
            "Trainable params: 4,611\n",
            "Non-trainable params: 10,783,535\n",
            "_________________________________________________________________\n"
          ]
        }
      ]
    },
    {
      "cell_type": "code",
      "source": [],
      "metadata": {
        "id": "MSrLdvj2p6qA"
      },
      "execution_count": null,
      "outputs": []
    }
  ]
}